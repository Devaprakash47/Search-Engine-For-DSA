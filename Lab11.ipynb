{
  "nbformat": 4,
  "nbformat_minor": 0,
  "metadata": {
    "colab": {
      "provenance": []
    },
    "kernelspec": {
      "name": "python3",
      "display_name": "Python 3"
    },
    "language_info": {
      "name": "python"
    }
  },
  "cells": [
    {
      "cell_type": "code",
      "execution_count": 1,
      "metadata": {
        "id": "fFNuzzb5I-ct"
      },
      "outputs": [],
      "source": [
        "import numpy as np\n",
        "from sklearn.datasets import load_iris\n",
        "from sklearn.model_selection import train_test_split\n",
        "from sklearn.preprocessing import OneHotEncoder, StandardScaler"
      ]
    },
    {
      "cell_type": "code",
      "source": [
        "def sigmoid(x):\n",
        " return 1 / (1 + np.exp(-x))\n",
        "def sigmoid_derivative(x):\n",
        " return x * (1 - x)\n",
        "def softmax(x):\n",
        " exp_vals = np.exp(x - np.max(x, axis=1, keepdims=True)) # stability trick\n",
        " return exp_vals / np.sum(exp_vals, axis=1, keepdims=True)"
      ],
      "metadata": {
        "id": "8FIJQEfSJQzj"
      },
      "execution_count": 2,
      "outputs": []
    },
    {
      "cell_type": "code",
      "source": [
        "class MLPClassifier:\n",
        " def __init__(self, input_size, hidden_size, output_size, learning_rate=0.1):\n",
        "  self.lr = learning_rate\n",
        "  self.W1 = np.random.randn(input_size, hidden_size) * 0.01\n",
        "  self.b1 = np.zeros((1, hidden_size))\n",
        "  self.W2 = np.random.randn(hidden_size, output_size) * 0.01\n",
        "  self.b2 = np.zeros((1, output_size))\n",
        " def forward(self, X):\n",
        "  self.z1 = np.dot(X, self.W1) + self.b1\n",
        "  self.a1 = sigmoid(self.z1)\n",
        "  self.z2 = np.dot(self.a1, self.W2) + self.b2\n",
        "  self.a2 = softmax(self.z2)\n",
        "  return self.a2\n",
        " def backward(self, X, y, output):\n",
        "  m = X.shape[0]\n",
        "  d_output = (output - y) / m\n",
        "  d_hidden = np.dot(d_output, self.W2.T) * sigmoid_derivative(self.a1)\n",
        "  # Update weights\n",
        "  self.W2 -= self.lr * np.dot(self.a1.T, d_output)\n",
        "  self.b2 -= self.lr * np.sum(d_output, axis=0, keepdims=True)\n",
        "  self.W1 -= self.lr * np.dot(X.T, d_hidden)\n",
        "  self.b1 -= self.lr * np.sum(d_hidden, axis=0, keepdims=True)\n",
        " def train(self, X, y, epochs=1000):\n",
        "  for epoch in range(epochs):\n",
        "   output = self.forward(X)\n",
        "   self.backward(X, y, output)\n",
        "   if epoch % 100 == 0:\n",
        "    loss = -np.mean(np.sum(y * np.log(output + 1e-9), axis=1))\n",
        "    print(f\"Epoch {epoch}, Loss: {loss:.6f}\")\n",
        " def predict(self, X):\n",
        "  probs = self.forward(X)\n",
        "  return np.argmax(probs, axis=1)"
      ],
      "metadata": {
        "id": "QRqA4fHOJSa8"
      },
      "execution_count": 5,
      "outputs": []
    },
    {
      "cell_type": "code",
      "source": [
        "iris = load_iris()\n",
        "X = iris.data\n",
        "y = iris.target.reshape(-1, 1)\n",
        "class_names = iris.target_names # ['setosa', 'versicolor', 'virginica']"
      ],
      "metadata": {
        "id": "LW1JQitwJWdD"
      },
      "execution_count": 6,
      "outputs": []
    },
    {
      "cell_type": "code",
      "source": [
        "scaler = StandardScaler()\n",
        "X = scaler.fit_transform(X)\n"
      ],
      "metadata": {
        "id": "cSES2WN1JlEd"
      },
      "execution_count": 7,
      "outputs": []
    },
    {
      "cell_type": "code",
      "source": [
        "encoder = OneHotEncoder(sparse_output=False)\n",
        "y_encoded = encoder.fit_transform(y)"
      ],
      "metadata": {
        "id": "nWKfOhmKJpPd"
      },
      "execution_count": 8,
      "outputs": []
    },
    {
      "cell_type": "code",
      "source": [
        "X_train, X_test, y_train, y_test = train_test_split(\n",
        " X, y_encoded, test_size=0.2, random_state=42\n",
        ")\n"
      ],
      "metadata": {
        "id": "HSwQkBb7Jte3"
      },
      "execution_count": 9,
      "outputs": []
    },
    {
      "cell_type": "code",
      "source": [
        "mlp = MLPClassifier(input_size=4, hidden_size=8, output_size=3, learning_rate=0.1)\n",
        "mlp.train(X_train, y_train, epochs=1000)"
      ],
      "metadata": {
        "colab": {
          "base_uri": "https://localhost:8080/"
        },
        "id": "9RtSMUagJxpu",
        "outputId": "31e3efb6-a15d-4482-942c-9c4fecc2a66d"
      },
      "execution_count": 10,
      "outputs": [
        {
          "output_type": "stream",
          "name": "stdout",
          "text": [
            "Epoch 0, Loss: 1.098504\n",
            "Epoch 100, Loss: 1.087663\n",
            "Epoch 200, Loss: 0.811359\n",
            "Epoch 300, Loss: 0.532199\n",
            "Epoch 400, Loss: 0.426292\n",
            "Epoch 500, Loss: 0.360178\n",
            "Epoch 600, Loss: 0.310714\n",
            "Epoch 700, Loss: 0.271635\n",
            "Epoch 800, Loss: 0.239613\n",
            "Epoch 900, Loss: 0.212839\n"
          ]
        }
      ]
    },
    {
      "cell_type": "code",
      "source": [
        "y_pred = mlp.predict(X_test)\n",
        "y_true = np.argmax(y_test, axis=1)\n",
        "accuracy = np.mean(y_pred == y_true)\n",
        "print(\"\\nTest Accuracy:\", accuracy)\n",
        "print(\"True Labels: \", y_true)\n",
        "print(\"Predicted Labels:\", y_pred)"
      ],
      "metadata": {
        "colab": {
          "base_uri": "https://localhost:8080/"
        },
        "id": "GEdbKtzKJ1w1",
        "outputId": "2cdf5d1d-d8cb-47c3-b6d8-151be03a7ef6"
      },
      "execution_count": 11,
      "outputs": [
        {
          "output_type": "stream",
          "name": "stdout",
          "text": [
            "\n",
            "Test Accuracy: 0.9666666666666667\n",
            "True Labels:  [1 0 2 1 1 0 1 2 1 1 2 0 0 0 0 1 2 1 1 2 0 2 0 2 2 2 2 2 0 0]\n",
            "Predicted Labels: [1 0 2 1 1 0 1 2 2 1 2 0 0 0 0 1 2 1 1 2 0 2 0 2 2 2 2 2 0 0]\n"
          ]
        }
      ]
    },
    {
      "cell_type": "code",
      "source": [
        "print(\"\\nEnter flower measurements to predict Iris class:\")\n",
        "sepal_length = float(input(\"Sepal Length (cm): \"))\n",
        "sepal_width = float(input(\"Sepal Width (cm): \"))\n",
        "petal_length = float(input(\"Petal Length (cm): \"))\n",
        "petal_width = float(input(\"Petal Width (cm): \"))\n",
        "user_input = np.array([[sepal_length, sepal_width, petal_length, petal_width]])\n",
        "user_input_scaled = scaler.transform(user_input)\n",
        "user_pred = mlp.predict(user_input_scaled)[0]\n",
        "print(\"\\nPredicted Class Label:\", user_pred)\n",
        "print(\"Predicted Class Name:\", class_names[user_pred])"
      ],
      "metadata": {
        "colab": {
          "base_uri": "https://localhost:8080/"
        },
        "id": "0XsCi65CJ5JJ",
        "outputId": "9e6044c5-55b7-4e0a-e40e-f2e34629efb0"
      },
      "execution_count": 12,
      "outputs": [
        {
          "output_type": "stream",
          "name": "stdout",
          "text": [
            "\n",
            "Enter flower measurements to predict Iris class:\n",
            "Sepal Length (cm): 4\n",
            "Sepal Width (cm): 5\n",
            "Petal Length (cm): 6\n",
            "Petal Width (cm): 7\n",
            "\n",
            "Predicted Class Label: 2\n",
            "Predicted Class Name: virginica\n"
          ]
        }
      ]
    }
  ]
}