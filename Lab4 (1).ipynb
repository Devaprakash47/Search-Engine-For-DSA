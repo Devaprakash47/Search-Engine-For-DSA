{
  "nbformat": 4,
  "nbformat_minor": 0,
  "metadata": {
    "colab": {
      "provenance": [],
      "collapsed_sections": [
        "44woljD6Tn5e",
        "Iper5aAXZSWu"
      ]
    },
    "kernelspec": {
      "name": "python3",
      "display_name": "Python 3"
    },
    "language_info": {
      "name": "python"
    }
  },
  "cells": [
    {
      "cell_type": "markdown",
      "source": [
        "### **Find-S Algorithm Example-1**"
      ],
      "metadata": {
        "id": "44woljD6Tn5e"
      }
    },
    {
      "cell_type": "markdown",
      "source": [
        "**Dataset**"
      ],
      "metadata": {
        "id": "dtrVmpjKTyL8"
      }
    },
    {
      "cell_type": "code",
      "execution_count": null,
      "metadata": {
        "colab": {
          "base_uri": "https://localhost:8080/"
        },
        "id": "F_0YskS1M5lA",
        "outputId": "69fb822c-da00-4a58-9a63-025805d86a0e"
      },
      "outputs": [
        {
          "output_type": "stream",
          "name": "stdout",
          "text": [
            "['$', '$', '$', '$', '$', '$']\n"
          ]
        }
      ],
      "source": [
        "data = [\n",
        "    ['Sunny', 'Warm', 'Normal', 'Strong', 'Warm', 'Same', 'Yes'],\n",
        "     ['Sunny', 'Warm', 'High',   'Strong', 'Warm', 'Same', 'Yes'],\n",
        "      ['Rainy', 'Cold', 'High',   'Strong', 'Warm', 'Change', 'No'],\n",
        "       ['Sunny', 'Warm', 'High',   'Strong', 'Cool', 'Change', 'Yes']\n",
        "]\n",
        "\n",
        "hypothesis = ['$'] * (len(data[0]) - 1)\n",
        "print(hypothesis)"
      ]
    },
    {
      "cell_type": "markdown",
      "source": [
        "**Intialize Values**"
      ],
      "metadata": {
        "id": "W7OIPqcxUAhd"
      }
    },
    {
      "cell_type": "code",
      "source": [
        "for init in data:\n",
        "  if init[-1] == 'Yes':\n",
        "    hypothesis = init[0:-1]\n",
        "    break\n",
        "\n",
        "print(hypothesis)"
      ],
      "metadata": {
        "colab": {
          "base_uri": "https://localhost:8080/"
        },
        "id": "x9PXENOkUKQc",
        "outputId": "85ad0f26-09d4-4e75-c3ba-15403adc0d5e"
      },
      "execution_count": null,
      "outputs": [
        {
          "output_type": "stream",
          "name": "stdout",
          "text": [
            "['Sunny', 'Warm', 'Normal', 'Strong', 'Warm', 'Same']\n"
          ]
        }
      ]
    },
    {
      "cell_type": "markdown",
      "source": [
        "**Convert to More Generic**"
      ],
      "metadata": {
        "id": "ccMUFapLWL0V"
      }
    },
    {
      "cell_type": "code",
      "source": [
        "for x in data:\n",
        "  if x[-1] == 'Yes':\n",
        "    for i in range(len(hypothesis)):\n",
        "      if x[i] != hypothesis[i]:\n",
        "        hypothesis[i] = '?'\n",
        "\n",
        "print(hypothesis)"
      ],
      "metadata": {
        "colab": {
          "base_uri": "https://localhost:8080/"
        },
        "id": "UkWEYC7RWR-9",
        "outputId": "6ce6ecc6-1169-4960-f737-e577218b1710"
      },
      "execution_count": null,
      "outputs": [
        {
          "output_type": "stream",
          "name": "stdout",
          "text": [
            "['Sunny', 'Warm', '?', 'Strong', '?', '?']\n"
          ]
        }
      ]
    },
    {
      "cell_type": "markdown",
      "source": [
        "### **Find-S Algorithm Example-2**"
      ],
      "metadata": {
        "id": "Iper5aAXZSWu"
      }
    },
    {
      "cell_type": "markdown",
      "source": [
        "**Dataset**"
      ],
      "metadata": {
        "id": "fu9frt7YZjHF"
      }
    },
    {
      "cell_type": "code",
      "source": [
        "data = [\n",
        "    ['GREEN',  'HARD', 'NO',  'WRINKLED', 'YES'],\n",
        "    ['GREEN',  'HARD', 'YES', 'SMOOTH',   'NO'],\n",
        "    ['BROWN',  'SOFT', 'NO',  'WRINKLED', 'NO'],\n",
        "    ['ORANGE', 'HARD', 'NO',  'WRINKLED', 'YES'],\n",
        "    ['GREEN',  'SOFT', 'YES', 'SMOOTH',   'YES'],\n",
        "    ['GREEN',  'HARD', 'YES', 'WRINKLED', 'YES'],\n",
        "    ['ORANGE', 'HARD', 'NO',  'WRINKLED', 'YES']\n",
        "]\n",
        "\n",
        "hypothesis = ['$'] * (len(data[0]) - 1)\n",
        "print(hypothesis)"
      ],
      "metadata": {
        "colab": {
          "base_uri": "https://localhost:8080/"
        },
        "id": "OuoerA8FZezl",
        "outputId": "42d9d7d4-d4db-45ad-d767-7bcd271d5854"
      },
      "execution_count": null,
      "outputs": [
        {
          "output_type": "stream",
          "name": "stdout",
          "text": [
            "['$', '$', '$', '$']\n"
          ]
        }
      ]
    },
    {
      "cell_type": "markdown",
      "source": [
        "**Intialize Values**"
      ],
      "metadata": {
        "id": "-UW2Np3xZwMV"
      }
    },
    {
      "cell_type": "code",
      "source": [
        "for init in data:\n",
        "  if init[-1] == 'YES':\n",
        "    hypothesis = init[0:-1]\n",
        "    break\n",
        "\n",
        "print(hypothesis)"
      ],
      "metadata": {
        "colab": {
          "base_uri": "https://localhost:8080/"
        },
        "id": "nrdCo_WSZxDd",
        "outputId": "104beb5f-e939-4a9c-b45b-436eead2c27c"
      },
      "execution_count": null,
      "outputs": [
        {
          "output_type": "stream",
          "name": "stdout",
          "text": [
            "['GREEN', 'HARD', 'NO', 'WRINKLED']\n"
          ]
        }
      ]
    },
    {
      "cell_type": "markdown",
      "source": [
        "**Convert to More Generic**"
      ],
      "metadata": {
        "id": "j799GdEWZ9dF"
      }
    },
    {
      "cell_type": "code",
      "source": [
        "for x in data:\n",
        "  if x[-1] == 'YES':\n",
        "    for i in range(len(hypothesis)):\n",
        "      if x[i] != hypothesis[i]:\n",
        "        hypothesis[i] = '?'\n",
        "\n",
        "print(hypothesis)"
      ],
      "metadata": {
        "colab": {
          "base_uri": "https://localhost:8080/"
        },
        "id": "NCrDIex7aBLt",
        "outputId": "79b61ce7-3965-4959-b244-bb72577c6a7e"
      },
      "execution_count": null,
      "outputs": [
        {
          "output_type": "stream",
          "name": "stdout",
          "text": [
            "['?', '?', '?', '?']\n"
          ]
        }
      ]
    },
    {
      "cell_type": "markdown",
      "source": [
        "### **Candidate Elimination Algorithm**"
      ],
      "metadata": {
        "id": "sAylq3YObHTf"
      }
    },
    {
      "cell_type": "code",
      "source": [
        "def consistent(hypothesis, example):\n",
        "    for h, e in zip(hypothesis, example):\n",
        "        if h != '?' and h != e:\n",
        "            return False\n",
        "    return True\n",
        "\n",
        "def candidate_elimination(data):\n",
        "    num_attributes = len(data[0]) - 1\n",
        "    S = [['ϕ'] * num_attributes]\n",
        "    G = [['?'] * num_attributes]\n",
        "\n",
        "    for example in data:\n",
        "        attributes, label = example[:-1], example[-1]\n",
        "        if label == 'Yes':\n",
        "            G = [g for g in G if consistent(g, attributes)]\n",
        "            for s in S:\n",
        "                for i in range(num_attributes):\n",
        "                    if s[i] == 'ϕ':\n",
        "                        s[i] = attributes[i]\n",
        "                    elif s[i] != attributes[i]:\n",
        "                        s[i] = '?'\n",
        "            S = [S[0]]\n",
        "        elif label == 'No':\n",
        "            S = [s for s in S if not consistent(s, attributes)]\n",
        "            specific = S[0]\n",
        "            G = [['?'] * num_attributes]\n",
        "            for i in range(num_attributes):\n",
        "                if specific[i] != '?' and specific[i] != 'ϕ':\n",
        "                    G[0][i] = specific[i]\n",
        "                    break\n",
        "\n",
        "    return S, G\n",
        "\n",
        "data = [\n",
        "    ['Sunny', 'Warm', 'Normal', 'Strong', 'Warm', 'Same', 'Yes'],\n",
        "    ['Sunny', 'Warm', 'High', 'Strong', 'Warm', 'Same', 'Yes'],\n",
        "    ['Rainy', 'Cold', 'High', 'Strong', 'Warm', 'Change', 'No'],\n",
        "    ['Sunny', 'Warm', 'High', 'Strong', 'Cool', 'Change', 'Yes']\n",
        "]\n",
        "\n",
        "S_final, G_final = candidate_elimination(data)\n",
        "print(\"Final Specific Hypothesis S:\", S_final)\n",
        "print(\"Final General Hypothesis G:\", G_final)"
      ],
      "metadata": {
        "id": "BcFD61ynbSN2",
        "colab": {
          "base_uri": "https://localhost:8080/"
        },
        "outputId": "1461eccb-fc8d-4624-9ad6-8c97586c4d4e"
      },
      "execution_count": null,
      "outputs": [
        {
          "output_type": "stream",
          "name": "stdout",
          "text": [
            "Final Specific Hypothesis S: [['Sunny', 'Warm', '?', 'Strong', '?', '?']]\n",
            "Final General Hypothesis G: [['Sunny', '?', '?', '?', '?', '?']]\n"
          ]
        }
      ]
    }
  ]
}