{
  "nbformat": 4,
  "nbformat_minor": 0,
  "metadata": {
    "colab": {
      "provenance": []
    },
    "kernelspec": {
      "name": "python3",
      "display_name": "Python 3"
    },
    "language_info": {
      "name": "python"
    }
  },
  "cells": [
    {
      "cell_type": "code",
      "execution_count": 9,
      "metadata": {
        "id": "LasvU6JJMxUV"
      },
      "outputs": [],
      "source": [
        "import torch\n",
        "import torch.nn as nn\n",
        "import torch.optim as optim\n",
        "from sklearn.datasets import load_iris\n",
        "from sklearn.model_selection import train_test_split\n",
        "from sklearn.preprocessing import StandardScaler\n",
        "from sklearn.preprocessing import OneHotEncoder\n",
        "import numpy as np"
      ]
    },
    {
      "cell_type": "code",
      "source": [
        "iris = load_iris()\n",
        "X, y = iris.data, iris.target.reshape(-1, 1)\n",
        "class_names = iris.target_names # ['setosa', 'versicolor', 'virginica']\n"
      ],
      "metadata": {
        "id": "BEBzJRunM5fJ"
      },
      "execution_count": 10,
      "outputs": []
    },
    {
      "cell_type": "code",
      "source": [
        "scaler = StandardScaler()\n",
        "X = scaler.fit_transform(X)"
      ],
      "metadata": {
        "id": "QSS7doXOM8SQ"
      },
      "execution_count": 11,
      "outputs": []
    },
    {
      "cell_type": "code",
      "source": [
        "encoder = OneHotEncoder(sparse_output=False)\n",
        "y = encoder.fit_transform(y)\n"
      ],
      "metadata": {
        "id": "22m2hfsnNAat"
      },
      "execution_count": 12,
      "outputs": []
    },
    {
      "cell_type": "code",
      "source": [
        "X_train, X_test, y_train, y_test = train_test_split(X, y, test_size=0.2, random_state=42)\n",
        "X_train = torch.tensor(X_train, dtype=torch.float32)\n",
        "y_train = torch.tensor(y_train, dtype=torch.float32)\n",
        "X_test = torch.tensor(X_test, dtype=torch.float32)\n",
        "y_test = torch.tensor(y_test, dtype=torch.float32)\n"
      ],
      "metadata": {
        "id": "yG24_WhwNDbD"
      },
      "execution_count": 13,
      "outputs": []
    },
    {
      "cell_type": "code",
      "source": [
        "class MLP(nn.Module):\n",
        "    def __init__(self, input_size, hidden_size, output_size):\n",
        "        super(MLP, self).__init__()\n",
        "        self.fc1 = nn.Linear(input_size, hidden_size)\n",
        "        self.relu = nn.ReLU()\n",
        "        self.fc2 = nn.Linear(hidden_size, hidden_size)\n",
        "        self.fc3 = nn.Linear(hidden_size, output_size)\n",
        "        self.softmax = nn.Softmax(dim=1)\n",
        "\n",
        "    def forward(self, x):\n",
        "        x = self.relu(self.fc1(x))\n",
        "        x = self.relu(self.fc2(x))\n",
        "        x = self.softmax(self.fc3(x))\n",
        "        return x"
      ],
      "metadata": {
        "id": "MKwpsQCDNHH6"
      },
      "execution_count": 14,
      "outputs": []
    },
    {
      "cell_type": "code",
      "source": [
        "model = MLP(4, 8, 3)\n",
        "criterion = nn.CrossEntropyLoss()\n",
        "optimizer = optim.Adam(model.parameters(), lr=0.01)\n"
      ],
      "metadata": {
        "id": "U-WluuXKNPN8"
      },
      "execution_count": 8,
      "outputs": []
    },
    {
      "cell_type": "code",
      "source": [
        "for epoch in range(200):\n",
        "    optimizer.zero_grad()\n",
        "    outputs = model(X_train)\n",
        "    loss = criterion(outputs, torch.max(y_train, 1)[1]) # convert one-hot to class indices\n",
        "    loss.backward()\n",
        "    optimizer.step()\n",
        "    if epoch % 50 == 0:\n",
        "        print(f\"Epoch {epoch}, Loss: {loss.item():.4f}\")"
      ],
      "metadata": {
        "colab": {
          "base_uri": "https://localhost:8080/"
        },
        "id": "sDf-w5EZNSzz",
        "outputId": "d1c694e3-2a3b-4d6d-c074-743193318be6"
      },
      "execution_count": 16,
      "outputs": [
        {
          "output_type": "stream",
          "name": "stdout",
          "text": [
            "Epoch 0, Loss: 1.0934\n",
            "Epoch 50, Loss: 0.5966\n",
            "Epoch 100, Loss: 0.5743\n",
            "Epoch 150, Loss: 0.5699\n"
          ]
        }
      ]
    },
    {
      "cell_type": "code",
      "source": [
        "with torch.no_grad():\n",
        "    outputs = model(X_test)\n",
        "    _, predicted = torch.max(outputs, 1)\n",
        "    _, true_labels = torch.max(y_test, 1)\n",
        "    accuracy = (predicted == true_labels).float().mean()\n",
        "    print(\"Test Accuracy:\", accuracy.item())"
      ],
      "metadata": {
        "colab": {
          "base_uri": "https://localhost:8080/"
        },
        "id": "M1CGTgI8NVwr",
        "outputId": "43a8d529-0132-4a83-b05f-efa364788b4f"
      },
      "execution_count": 18,
      "outputs": [
        {
          "output_type": "stream",
          "name": "stdout",
          "text": [
            "Test Accuracy: 1.0\n"
          ]
        }
      ]
    },
    {
      "cell_type": "code",
      "source": [
        "print(\"\\nEnter flower measurements to predict Iris class:\")\n",
        "sepal_length = float(input(\"Sepal Length (cm): \"))\n",
        "sepal_width = float(input(\"Sepal Width (cm): \"))\n",
        "petal_length = float(input(\"Petal Length (cm): \"))\n",
        "petal_width = float(input(\"Petal Width (cm): \"))"
      ],
      "metadata": {
        "colab": {
          "base_uri": "https://localhost:8080/"
        },
        "id": "AYpozR4DNa-_",
        "outputId": "ade8add1-b573-4353-a1c5-2af378899273"
      },
      "execution_count": 19,
      "outputs": [
        {
          "name": "stdout",
          "output_type": "stream",
          "text": [
            "\n",
            "Enter flower measurements to predict Iris class:\n",
            "Sepal Length (cm): 5\n",
            "Sepal Width (cm): 6\n",
            "Petal Length (cm): 4\n",
            "Petal Width (cm): 3\n"
          ]
        }
      ]
    },
    {
      "cell_type": "code",
      "source": [
        "user_data = np.array([[sepal_length, sepal_width, petal_length, petal_width]])\n",
        "user_data_scaled = scaler.transform(user_data)\n",
        "user_tensor = torch.tensor(user_data_scaled, dtype=torch.float32)"
      ],
      "metadata": {
        "id": "NQjL9fO6Nd8F"
      },
      "execution_count": 20,
      "outputs": []
    },
    {
      "cell_type": "code",
      "source": [
        "with torch.no_grad():\n",
        " user_output = model(user_tensor)\n",
        " predicted_class = torch.argmax(user_output, dim=1).item()\n",
        "print(\"\\nPredicted Class Label:\", predicted_class)\n",
        "print(\"Predicted Class Name:\", class_names[predicted_class])"
      ],
      "metadata": {
        "colab": {
          "base_uri": "https://localhost:8080/"
        },
        "id": "4yP4IXDINgqM",
        "outputId": "d4862b73-ce25-4b68-edd8-007bc1e6af5c"
      },
      "execution_count": 21,
      "outputs": [
        {
          "output_type": "stream",
          "name": "stdout",
          "text": [
            "\n",
            "Predicted Class Label: 0\n",
            "Predicted Class Name: setosa\n"
          ]
        }
      ]
    }
  ]
}